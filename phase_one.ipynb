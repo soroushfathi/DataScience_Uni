{
 "cells": [
  {
   "cell_type": "code",
   "execution_count": 9,
   "id": "94b88985",
   "metadata": {},
   "outputs": [],
   "source": [
    "import pandas as pd\n",
    "import matplotlib.pyplot as plt"
   ]
  },
  {
   "cell_type": "markdown",
   "id": "ca40fc5f",
   "metadata": {},
   "source": [
    "# Part One"
   ]
  },
  {
   "cell_type": "markdown",
   "id": "df0e6f1f",
   "metadata": {},
   "source": [
    "### Load Dataset"
   ]
  },
  {
   "cell_type": "code",
   "execution_count": 2,
   "id": "6f76dbc5",
   "metadata": {},
   "outputs": [],
   "source": [
    "FILE_NAME = 'GooglePlay.csv'\n",
    "# Assuming the dataset is in a CSV file named 'dataset.csv'\n",
    "df = pd.read_csv(FILE_NAME)"
   ]
  },
  {
   "cell_type": "markdown",
   "id": "4d350d82",
   "metadata": {},
   "source": [
    "### Clean Dataset"
   ]
  },
  {
   "cell_type": "code",
   "execution_count": 3,
   "id": "fea4b840",
   "metadata": {},
   "outputs": [
    {
     "name": "stderr",
     "output_type": "stream",
     "text": [
      "C:\\Users\\fathi\\AppData\\Local\\Temp\\ipykernel_11040\\3241697511.py:2: FutureWarning: The default value of regex will change from True to False in a future version. In addition, single character regular expressions will *not* be treated as literal strings when regex=True.\n",
      "  df['Installs'] = df['Installs'].str.replace(',', '').str.replace('+', '')\n"
     ]
    }
   ],
   "source": [
    "# Remove non-numeric characters from the 'Installs' column\n",
    "df['Installs'] = df['Installs'].str.replace(',', '').str.replace('+', '')\n",
    "df['Installs'] = pd.to_numeric(df['Installs'], errors='coerce')\n",
    "\n",
    "# Drop rows with NaN values in the 'Installs' column\n",
    "df = df.dropna(subset=['Installs'])\n",
    "\n",
    "# Remove non-numeric characters from the 'Reviews' column\n",
    "df['Reviews'] = pd.to_numeric(df['Reviews'].str.replace(',', ''), errors='coerce')"
   ]
  },
  {
   "cell_type": "markdown",
   "id": "f7db3bea",
   "metadata": {},
   "source": [
    "### Store Cleaned Dataset"
   ]
  },
  {
   "cell_type": "code",
   "execution_count": 4,
   "id": "0cbde437",
   "metadata": {},
   "outputs": [
    {
     "name": "stdout",
     "output_type": "stream",
     "text": [
      "The cleaned dataset has been saved to 'cleaned_dataset.csv'.\n"
     ]
    }
   ],
   "source": [
    "# Store the cleaned dataset in a new file named 'cleaned_dataset.csv'\n",
    "df.to_csv('cleaned_dataset.csv', index=False)\n",
    "\n",
    "# Display a message to indicate the file has been saved\n",
    "print(\"The cleaned dataset has been saved to 'cleaned_dataset.csv'.\")"
   ]
  },
  {
   "cell_type": "code",
   "execution_count": 5,
   "id": "1e9e651d",
   "metadata": {},
   "outputs": [],
   "source": [
    "# Function to calculate characteristics\n",
    "def calculate_characteristics(df, column_name):\n",
    "    characteristics = {\n",
    "        'Outlier': None, # Outlier calculation depends on the context\n",
    "        'Median': df[column_name].median(),\n",
    "        'Mode': df[column_name].mode()[0] if df[column_name].mode().size > 0 else None,\n",
    "        'Mean': df[column_name].mean(),\n",
    "        'Max': df[column_name].max(),\n",
    "        'Min': df[column_name].min(),\n",
    "        'Range': df[column_name].max() - df[column_name].min(),\n",
    "        'Type': 'Discrete' if df[column_name].dtype == 'int64' else 'Continuous',\n",
    "        'Feature Name': column_name\n",
    "    }\n",
    "    return characteristics"
   ]
  },
  {
   "cell_type": "markdown",
   "id": "fb1538d8",
   "metadata": {},
   "source": [
    "### Calculate characteristics for each numerical column"
   ]
  },
  {
   "cell_type": "code",
   "execution_count": 6,
   "id": "bbf37bfb",
   "metadata": {},
   "outputs": [
    {
     "name": "stdout",
     "output_type": "stream",
     "text": [
      "Characteristics for Rating:\n",
      "{'Outlier': None, 'Median': 4.3, 'Mode': 4.4, 'Mean': 4.191757420456978, 'Max': 5.0, 'Min': 1.0, 'Range': 4.0, 'Type': 'Continuous', 'Feature Name': 'Rating'}\n",
      "\n",
      "\n",
      "Characteristics for Reviews:\n",
      "{'Outlier': None, 'Median': 2094.0, 'Mode': 0, 'Mean': 444152.89603321033, 'Max': 78158306, 'Min': 0, 'Range': 78158306, 'Type': 'Discrete', 'Feature Name': 'Reviews'}\n",
      "\n",
      "\n",
      "Characteristics for Installs:\n",
      "{'Outlier': None, 'Median': 100000.0, 'Mode': 1000000.0, 'Mean': 15464338.882564576, 'Max': 1000000000.0, 'Min': 0.0, 'Range': 1000000000.0, 'Type': 'Continuous', 'Feature Name': 'Installs'}\n",
      "\n",
      "\n"
     ]
    }
   ],
   "source": [
    "numerical_columns = ['Rating', 'Reviews' , 'Installs']\n",
    "for column in numerical_columns:\n",
    "    characteristics = calculate_characteristics(df, column)\n",
    "    print(f\"Characteristics for {column}:\")\n",
    "    print(characteristics)\n",
    "    print(\"\\n\")"
   ]
  },
  {
   "cell_type": "markdown",
   "id": "3bbf59d0",
   "metadata": {},
   "source": [
    "### Plot Outer Values for each feature"
   ]
  },
  {
   "cell_type": "code",
   "execution_count": 10,
   "id": "b3c22418",
   "metadata": {},
   "outputs": [
    {
     "data": {
      "image/png": "[encoded data removed]",
      "text/plain": [
       "<Figure size 720x432 with 1 Axes>"
      ]
     },
     "metadata": {
      "needs_background": "light"
     },
     "output_type": "display_data"
    },
    {
     "data": {
      "image/png": "[encoded data removed]",
      "text/plain": [
       "<Figure size 720x432 with 1 Axes>"
      ]
     },
     "metadata": {
      "needs_background": "light"
     },
     "output_type": "display_data"
    },
    {
     "data": {
      "image/png": "[encoded data removed]",
      "text/plain": [
       "<Figure size 720x432 with 1 Axes>"
      ]
     },
     "metadata": {
      "needs_background": "light"
     },
     "output_type": "display_data"
    }
   ],
   "source": [
    "# Function to plot Box Plots for each numerical column\n",
    "def plot_boxplot(df, column_name):\n",
    "    plt.figure(figsize=(10, 6))\n",
    "    plt.boxplot(df[column_name])\n",
    "    plt.title(f\"Box Plot for {column_name}\")\n",
    "    plt.ylabel(column_name)\n",
    "    plt.show()\n",
    "\n",
    "# Plot Box Plots for each numerical column\n",
    "for column in numerical_columns:\n",
    "    plot_boxplot(df, column)"
   ]
  },
  {
   "cell_type": "code",
   "execution_count": null,
   "id": "ae7621fd",
   "metadata": {},
   "outputs": [],
   "source": []
  }
 ],
 "metadata": {
  "kernelspec": {
   "display_name": "Python 3 (ipykernel)",
   "language": "python",
   "name": "python3"
  },
  "language_info": {
   "codemirror_mode": {
    "name": "ipython",
    "version": 3
   },
   "file_extension": ".py",
   "mimetype": "text/x-python",
   "name": "python",
   "nbconvert_exporter": "python",
   "pygments_lexer": "ipython3",
   "version": "3.9.12"
  }
 },
 "nbformat": 4,
 "nbformat_minor": 5
}
