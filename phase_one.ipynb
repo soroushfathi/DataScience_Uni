{
 "cells": [
  {
   "cell_type": "code",
   "execution_count": 44,
   "id": "94b88985",
   "metadata": {},
   "outputs": [
    {
     "name": "stdout",
     "output_type": "stream",
     "text": [
      "Requirement already satisfied: seaborn in c:\\users\\raya\\appdata\\local\\programs\\python\\python310\\lib\\site-packages (0.12.1)\n",
      "Requirement already satisfied: matplotlib!=3.6.1,>=3.1 in c:\\users\\raya\\appdata\\local\\programs\\python\\python310\\lib\\site-packages (from seaborn) (3.6.2)\n",
      "Requirement already satisfied: pandas>=0.25 in c:\\users\\raya\\appdata\\local\\programs\\python\\python310\\lib\\site-packages (from seaborn) (1.5.2)\n",
      "Requirement already satisfied: numpy>=1.17 in c:\\users\\raya\\appdata\\local\\programs\\python\\python310\\lib\\site-packages (from seaborn) (1.23.5)\n",
      "Requirement already satisfied: kiwisolver>=1.0.1 in c:\\users\\raya\\appdata\\local\\programs\\python\\python310\\lib\\site-packages (from matplotlib!=3.6.1,>=3.1->seaborn) (1.4.4)\n",
      "Requirement already satisfied: cycler>=0.10 in c:\\users\\raya\\appdata\\local\\programs\\python\\python310\\lib\\site-packages (from matplotlib!=3.6.1,>=3.1->seaborn) (0.11.0)\n",
      "Requirement already satisfied: pillow>=6.2.0 in c:\\users\\raya\\appdata\\local\\programs\\python\\python310\\lib\\site-packages (from matplotlib!=3.6.1,>=3.1->seaborn) (9.3.0)\n",
      "Requirement already satisfied: packaging>=20.0 in c:\\users\\raya\\appdata\\local\\programs\\python\\python310\\lib\\site-packages (from matplotlib!=3.6.1,>=3.1->seaborn) (21.3)\n",
      "Requirement already satisfied: pyparsing>=2.2.1 in c:\\users\\raya\\appdata\\local\\programs\\python\\python310\\lib\\site-packages (from matplotlib!=3.6.1,>=3.1->seaborn) (3.0.9)\n",
      "Requirement already satisfied: fonttools>=4.22.0 in c:\\users\\raya\\appdata\\local\\programs\\python\\python310\\lib\\site-packages (from matplotlib!=3.6.1,>=3.1->seaborn) (4.38.0)\n",
      "Requirement already satisfied: contourpy>=1.0.1 in c:\\users\\raya\\appdata\\local\\programs\\python\\python310\\lib\\site-packages (from matplotlib!=3.6.1,>=3.1->seaborn) (1.0.6)\n",
      "Requirement already satisfied: python-dateutil>=2.7 in c:\\users\\raya\\appdata\\local\\programs\\python\\python310\\lib\\site-packages (from matplotlib!=3.6.1,>=3.1->seaborn) (2.8.2)\n",
      "Requirement already satisfied: pytz>=2020.1 in c:\\users\\raya\\appdata\\local\\programs\\python\\python310\\lib\\site-packages (from pandas>=0.25->seaborn) (2022.7)\n",
      "Requirement already satisfied: six>=1.5 in c:\\users\\raya\\appdata\\local\\programs\\python\\python310\\lib\\site-packages (from python-dateutil>=2.7->matplotlib!=3.6.1,>=3.1->seaborn) (1.16.0)\n"
     ]
    },
    {
     "name": "stderr",
     "output_type": "stream",
     "text": [
      "\n",
      "[notice] A new release of pip available: 22.2.2 -> 24.0\n",
      "[notice] To update, run: C:\\Users\\RaYa\\AppData\\Local\\Programs\\Python\\Python310\\python.exe -m pip install --upgrade pip\n"
     ]
    }
   ],
   "source": [
    "import pandas as pd\n",
    "import matplotlib.pyplot as plt"
   ]
  },
  {
   "cell_type": "markdown",
   "id": "ca40fc5f",
   "metadata": {},
   "source": [
    "# Part One"
   ]
  },
  {
   "cell_type": "markdown",
   "id": "df0e6f1f",
   "metadata": {},
   "source": [
    "### Load Dataset"
   ]
  },
  {
   "cell_type": "code",
   "execution_count": 45,
   "id": "6f76dbc5",
   "metadata": {},
   "outputs": [],
   "source": [
    "FILE_NAME = 'GooglePlay.csv'\n",
    "# Assuming the dataset is in a CSV file named 'dataset.csv'\n",
    "df = pd.read_csv(FILE_NAME)"
   ]
  },
  {
   "cell_type": "code",
   "execution_count": 46,
   "id": "767073d9",
   "metadata": {},
   "outputs": [
    {
     "data": {
      "text/plain": [
       "Unnamed: 0          int64\n",
       "App                object\n",
       "Category           object\n",
       "Rating            float64\n",
       "Reviews            object\n",
       "Size               object\n",
       "Installs           object\n",
       "Type               object\n",
       "Price              object\n",
       "Content Rating     object\n",
       "Genres             object\n",
       "Last Updated       object\n",
       "Current Ver        object\n",
       "Android Ver        object\n",
       "dtype: object"
      ]
     },
     "execution_count": 46,
     "metadata": {},
     "output_type": "execute_result"
    }
   ],
   "source": [
    "df.shape\n",
    "df.dtypes"
   ]
  },
  {
   "cell_type": "markdown",
   "id": "4d350d82",
   "metadata": {},
   "source": [
    "### Clean Dataset"
   ]
  },
  {
   "cell_type": "code",
   "execution_count": 47,
   "id": "fea4b840",
   "metadata": {},
   "outputs": [
    {
     "name": "stderr",
     "output_type": "stream",
     "text": [
      "C:\\Users\\RaYa\\AppData\\Local\\Temp\\ipykernel_16732\\2850760274.py:2: FutureWarning: The default value of regex will change from True to False in a future version. In addition, single character regular expressions will *not* be treated as literal strings when regex=True.\n",
      "  df['Installs'] = df['Installs'].str.replace(',', '').str.replace('+', '')\n"
     ]
    }
   ],
   "source": [
    "# Remove non-numeric characters from the 'Installs' column\n",
    "df['Installs'] = df['Installs'].str.replace(',', '').str.replace('+', '')\n",
    "df['Installs'] = pd.to_numeric(df['Installs'], errors='coerce')\n",
    "\n",
    "# Drop rows with NaN values in the 'Installs' column\n",
    "df = df.dropna(subset=['Installs'])\n",
    "df = df.dropna(subset=['Reviews'])\n",
    "df = df.dropna(subset=['Ra'])\n",
    "\n",
    "# Remove non-numeric characters from the 'Reviews' column\n",
    "df['Reviews'] = pd.to_numeric(df['Reviews'].str.replace(',', ''), errors='coerce')"
   ]
  },
  {
   "cell_type": "markdown",
   "id": "f7db3bea",
   "metadata": {},
   "source": [
    "### Store Cleaned Dataset"
   ]
  },
  {
   "cell_type": "code",
   "execution_count": 48,
   "id": "0cbde437",
   "metadata": {},
   "outputs": [
    {
     "name": "stdout",
     "output_type": "stream",
     "text": [
      "The cleaned dataset has been saved to 'cleaned_dataset.csv'.\n"
     ]
    }
   ],
   "source": [
    "# Store the cleaned dataset in a new file named 'cleaned_dataset.csv'\n",
    "df.to_csv('cleaned_dataset.csv', index=False)\n",
    "\n",
    "# Display a message to indicate the file has been saved\n",
    "print(\"The cleaned dataset has been saved to 'cleaned_dataset.csv'.\")"
   ]
  },
  {
   "cell_type": "code",
   "execution_count": 49,
   "id": "1e9e651d",
   "metadata": {},
   "outputs": [],
   "source": [
    "# Function to calculate characteristics\n",
    "def calculate_characteristics(df, column_name):\n",
    "    characteristics = {\n",
    "        'Outlier': None, # Outlier calculation depends on the context\n",
    "        'Median': df[column_name].median(),\n",
    "        'Mode': df[column_name].mode()[0] if df[column_name].mode().size > 0 else None,\n",
    "        'Mean': df[column_name].mean(),\n",
    "        'Max': df[column_name].max(),\n",
    "        'Min': df[column_name].min(),\n",
    "        'Range': df[column_name].max() - df[column_name].min(),\n",
    "        'Type': 'Discrete' if df[column_name].dtype == 'int64' else 'Continuous',\n",
    "        'Feature Name': column_name\n",
    "    }\n",
    "    return characteristics"
   ]
  },
  {
   "cell_type": "markdown",
   "id": "fb1538d8",
   "metadata": {},
   "source": [
    "### Calculate characteristics for each numerical column"
   ]
  },
  {
   "cell_type": "code",
   "execution_count": 50,
   "id": "bbf37bfb",
   "metadata": {},
   "outputs": [
    {
     "name": "stdout",
     "output_type": "stream",
     "text": [
      "Characteristics for Rating:\n",
      "{'Outlier': None, 'Median': 4.3, 'Mode': 4.4, 'Mean': 4.191757420456972, 'Max': 5.0, 'Min': 1.0, 'Range': 4.0, 'Type': 'Continuous', 'Feature Name': 'Rating'}\n",
      "\n",
      "\n",
      "Characteristics for Reviews:\n",
      "{'Outlier': None, 'Median': 2094.0, 'Mode': 0, 'Mean': 444152.89603321033, 'Max': 78158306, 'Min': 0, 'Range': 78158306, 'Type': 'Discrete', 'Feature Name': 'Reviews'}\n",
      "\n",
      "\n",
      "Characteristics for Installs:\n",
      "{'Outlier': None, 'Median': 100000.0, 'Mode': 1000000.0, 'Mean': 15464338.882564576, 'Max': 1000000000.0, 'Min': 0.0, 'Range': 1000000000.0, 'Type': 'Continuous', 'Feature Name': 'Installs'}\n",
      "\n",
      "\n"
     ]
    }
   ],
   "source": [
    "numerical_columns = ['Rating', 'Reviews' , 'Installs']\n",
    "for column in numerical_columns:\n",
    "    characteristics = calculate_characteristics(df, column)\n",
    "    print(f\"Characteristics for {column}:\")\n",
    "    print(characteristics)\n",
    "    print(\"\\n\")"
   ]
  },
  {
   "cell_type": "code",
   "execution_count": 51,
   "id": "774c6f13",
   "metadata": {},
   "outputs": [
    {
     "data": {
      "text/html": [
       "<div>\n",
       "<style scoped>\n",
       "    .dataframe tbody tr th:only-of-type {\n",
       "        vertical-align: middle;\n",
       "    }\n",
       "\n",
       "    .dataframe tbody tr th {\n",
       "        vertical-align: top;\n",
       "    }\n",
       "\n",
       "    .dataframe thead th {\n",
       "        text-align: right;\n",
       "    }\n",
       "</style>\n",
       "<table border=\"1\" class=\"dataframe\">\n",
       "  <thead>\n",
       "    <tr style=\"text-align: right;\">\n",
       "      <th></th>\n",
       "      <th>Unnamed: 0</th>\n",
       "      <th>Rating</th>\n",
       "      <th>Reviews</th>\n",
       "      <th>Installs</th>\n",
       "    </tr>\n",
       "  </thead>\n",
       "  <tbody>\n",
       "    <tr>\n",
       "      <th>count</th>\n",
       "      <td>10840.000000</td>\n",
       "      <td>9366.000000</td>\n",
       "      <td>1.084000e+04</td>\n",
       "      <td>1.084000e+04</td>\n",
       "    </tr>\n",
       "    <tr>\n",
       "      <th>mean</th>\n",
       "      <td>5419.533948</td>\n",
       "      <td>4.191757</td>\n",
       "      <td>4.441529e+05</td>\n",
       "      <td>1.546434e+07</td>\n",
       "    </tr>\n",
       "    <tr>\n",
       "      <th>std</th>\n",
       "      <td>3129.439605</td>\n",
       "      <td>0.515219</td>\n",
       "      <td>2.927761e+06</td>\n",
       "      <td>8.502936e+07</td>\n",
       "    </tr>\n",
       "    <tr>\n",
       "      <th>min</th>\n",
       "      <td>0.000000</td>\n",
       "      <td>1.000000</td>\n",
       "      <td>0.000000e+00</td>\n",
       "      <td>0.000000e+00</td>\n",
       "    </tr>\n",
       "    <tr>\n",
       "      <th>25%</th>\n",
       "      <td>2709.750000</td>\n",
       "      <td>4.000000</td>\n",
       "      <td>3.800000e+01</td>\n",
       "      <td>1.000000e+03</td>\n",
       "    </tr>\n",
       "    <tr>\n",
       "      <th>50%</th>\n",
       "      <td>5419.500000</td>\n",
       "      <td>4.300000</td>\n",
       "      <td>2.094000e+03</td>\n",
       "      <td>1.000000e+05</td>\n",
       "    </tr>\n",
       "    <tr>\n",
       "      <th>75%</th>\n",
       "      <td>8129.250000</td>\n",
       "      <td>4.500000</td>\n",
       "      <td>5.477550e+04</td>\n",
       "      <td>5.000000e+06</td>\n",
       "    </tr>\n",
       "    <tr>\n",
       "      <th>max</th>\n",
       "      <td>10840.000000</td>\n",
       "      <td>5.000000</td>\n",
       "      <td>7.815831e+07</td>\n",
       "      <td>1.000000e+09</td>\n",
       "    </tr>\n",
       "  </tbody>\n",
       "</table>\n",
       "</div>"
      ],
      "text/plain": [
       "         Unnamed: 0       Rating       Reviews      Installs\n",
       "count  10840.000000  9366.000000  1.084000e+04  1.084000e+04\n",
       "mean    5419.533948     4.191757  4.441529e+05  1.546434e+07\n",
       "std     3129.439605     0.515219  2.927761e+06  8.502936e+07\n",
       "min        0.000000     1.000000  0.000000e+00  0.000000e+00\n",
       "25%     2709.750000     4.000000  3.800000e+01  1.000000e+03\n",
       "50%     5419.500000     4.300000  2.094000e+03  1.000000e+05\n",
       "75%     8129.250000     4.500000  5.477550e+04  5.000000e+06\n",
       "max    10840.000000     5.000000  7.815831e+07  1.000000e+09"
      ]
     },
     "execution_count": 51,
     "metadata": {},
     "output_type": "execute_result"
    }
   ],
   "source": [
    "df.describe()"
   ]
  },
  {
   "cell_type": "markdown",
   "id": "3bbf59d0",
   "metadata": {},
   "source": [
    "### Plot Outer Values for each feature"
   ]
  },
  {
   "cell_type": "code",
   "execution_count": 52,
   "id": "b3c22418",
   "metadata": {},
   "outputs": [
    {
     "data": {
      "image/png": "[encoded data removed]",
      "text/plain": [
       "<Figure size 1000x600 with 1 Axes>"
      ]
     },
     "metadata": {},
     "output_type": "display_data"
    },
    {
     "data": {
      "image/png": "[encoded data removed]",
      "text/plain": [
       "<Figure size 1000x600 with 1 Axes>"
      ]
     },
     "metadata": {},
     "output_type": "display_data"
    },
    {
     "data": {
      "image/png": "[encoded data removed]",
      "text/plain": [
       "<Figure size 1000x600 with 1 Axes>"
      ]
     },
     "metadata": {},
     "output_type": "display_data"
    }
   ],
   "source": [
    "# Function to plot Box Plots for each numerical column\n",
    "def plot_boxplot(df, column_name):\n",
    "    plt.figure(figsize=(10, 6))\n",
    "    plt.boxplot(df[column_name])\n",
    "    plt.title(f\"Box Plot for {column_name}\")\n",
    "    plt.ylabel(column_name)\n",
    "    plt.show()\n",
    "\n",
    "# Plot Box Plots for each numerical column\n",
    "for column in numerical_columns:\n",
    "    plot_boxplot(df, column)"
   ]
  },
  {
   "cell_type": "code",
   "execution_count": 54,
   "id": "5d05dc93",
   "metadata": {},
   "outputs": [
    {
     "data": {
      "text/plain": [
       "<bound method Series.info of 0           159\n",
       "1           967\n",
       "2         87510\n",
       "3        215644\n",
       "4           967\n",
       "          ...  \n",
       "10836        38\n",
       "10837         4\n",
       "10838         3\n",
       "10839       114\n",
       "10840    398307\n",
       "Name: Reviews, Length: 10840, dtype: int64>"
      ]
     },
     "execution_count": 54,
     "metadata": {},
     "output_type": "execute_result"
    }
   ],
   "source": [
    "df[\"Reviews\"].info"
   ]
  },
  {
   "cell_type": "code",
   "execution_count": null,
   "id": "142552c3",
   "metadata": {},
   "outputs": [],
   "source": []
  }
 ],
 "metadata": {
  "kernelspec": {
   "display_name": "Python 3 (ipykernel)",
   "language": "python",
   "name": "python3"
  },
  "language_info": {
   "codemirror_mode": {
    "name": "ipython",
    "version": 3
   },
   "file_extension": ".py",
   "mimetype": "text/x-python",
   "name": "python",
   "nbconvert_exporter": "python",
   "pygments_lexer": "ipython3",
   "version": "3.10.8"
  }
 },
 "nbformat": 4,
 "nbformat_minor": 5
}
